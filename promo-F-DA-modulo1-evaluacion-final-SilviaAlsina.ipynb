{
 "cells": [
  {
   "cell_type": "markdown",
   "metadata": {},
   "source": [
    "A lo largo de esta evaluación tendrás que crear una clase llamada TiendaOnline que cumpla los siguientes requisitos:\n",
    "\n",
    "    · La clase TiendaOnline debe tener los siguientes atributos:\n",
    "\n",
    "        1. inventario (lista de diccionarios): Un atributo para almacenar los productos en el inventario. Cada producto debe ser representado como un diccionario con las siguientes claves: 'nombre', 'precio', y 'cantidad'. Al principio deberá ser una lista vacía. Ejemplo de como debería ser:\n",
    "\n",
    "        [{'nombre': 'Camisa', 'precio': 20, 'cantidad': 40}, {'nombre': 'Pantalón', 'precio': 30, 'cantidad': 30}]   \n",
    "\n",
    "        2. clientes (diccionario): Un atributo para llevar un registro de los clientes de la tienda. Cada cliente debe ser representado como un diccionario con las siguientes claves: 'nombre' y 'email'. Al inicio deberá ser un diccionario vacío. Además, cada cliente debe tener un historial de compras. Deberá parecerse a:\n",
    "\n",
    "        {'Cliente1': {'email': 'cliente1@email.com', 'compras': []}, 'Cliente2': {'email': 'cliente2@email.com', 'compras': []}}\n",
    "\n",
    "        3. ventas_totales (float): Un atributo para llevar un registro de las ventas totales de la tienda. Inicializalo con valor 0.\n",
    "    \n",
    "    · La clase TiendaOnline debe tener los siguientes métodos:\n",
    "\n",
    "        1. agregar_producto(self, nombre, precio, cantidad): Este método agrega un producto al inventario o actualiza su cantidad si ya existe. Debe recibir el nombre, precio y cantidad del producto como parámetros.\n",
    "\n",
    "            - Itera a través del inventario y compara los nombres de los productos con el nombre proporcionado.\n",
    "\n",
    "            - Si el producto ya existe, actualiza la cantidad.\n",
    "\n",
    "            - Si no existe, agrega un nuevo producto al inventario.\n",
    "        \n",
    "        2. ver_inventario(self): Muestra el inventario de productos con sus detalles.\n",
    "\n",
    "            - Utiliza un bucle for para recorrer el inventario.\n",
    "\n",
    "            - Imprime los detalles (nombre, precio, cantidad) de cada producto.\n",
    "\n",
    "            - Debería verse:\n",
    "\n",
    "            Nombre: Camisa, Precio: $20, Cantidad: 50\n",
    "            Nombre: Pantalón, Precio: $30, Cantidad: 30\n",
    "            Nombre: Zapatos, Precio: $50, Cantidad: 40\n",
    "            Nombre: Camisa, Precio: $20, Cantidad: 50\n",
    "\n",
    "        3. buscar_producto(self, nombre): Busca un producto en el inventario por nombre y muestra sus detalles si se encuentra. Debe recibir el nombre del producto como parámetro.\n",
    "\n",
    "            - Utiliza un bucle for para recorrer el inventario.\n",
    "\n",
    "            - Compara los nombres de los productos con el nombre proporcionado.\n",
    "\n",
    "            -Si se encuentra el producto, imprime sus detalles.\n",
    "\n",
    "            - Debe mostrar:\n",
    "\n",
    "            Nombre: Camisa, Precio: $20, Cantidad: 40\n",
    "\n",
    "        4. actualizar_stock(self, nombre, cantidad): Actualiza el stock de un producto en el inventario. Debe recibir el nombre del producto y la cantidad a agregar o quitar como parámetros.\n",
    "\n",
    "            - Utiliza un bucle for para recorrer el inventario.\n",
    "\n",
    "            - Busca el producto por nombre.\n",
    "\n",
    "            - Actualiza la cantidad según la entrada del usuario.\n",
    "\n",
    "            - Si el producto no esta en el inventario muestra un mensaje indicándolo.\n",
    "        \n",
    "        5. eliminar_producto(self, nombre): Elimina un producto del inventario por nombre. Debe recibir el nombre del producto como parámetro.\n",
    "\n",
    "            - Utiliza un bucle for para recorrer el inventario.\n",
    "\n",
    "            - Busca el producto por nombre.\n",
    "\n",
    "            - Elimina el producto del inventario si existe.\n",
    "\n",
    "            - Si el producto no esta en el inventario muestra un mensaje indicándolo.\n",
    "        \n",
    "        6. calcular_valor_inventario(self): Calcula y muestra el valor total del inventario.\n",
    "        \n",
    "            - Utiliza un bucle for para calcular el valor total del inventario.\n",
    "\n",
    "            - Itera a través del inventario y suma el valor de cada producto (precio x cantidad). Es decir, calcula el valor total del inventario. Ejemplo:\n",
    "\n",
    "                # si tenemos 5 camisas que valen 5 euros \n",
    "                # y 10 calcetines que valen 1 euro\n",
    "                # este método te tiene que devolver: 35 euros\n",
    "\n",
    "                valor_camisas = 5 * 5\n",
    "                valor_calcetines = 10 * 1\n",
    "\n",
    "                valor_camisas + valor_calcetines = 35\n",
    "            \n",
    "        7. buscar_producto_regex(self, patron): Busca productos en el inventario que coincidan con un patrón de búsqueda en formato regex en el nombre y muestra los resultados. Debe recibir el patrón como parámetro.\n",
    "\n",
    "            - Utiliza un bucle for para recorrer el inventario.\n",
    "\n",
    "            - Utiliza la función más apropiada para buscar coincidencias con el patrón de expresión regular.\n",
    "\n",
    "            - Agrega los productos encontrados a una lista y luego imprime sus detalles.\n",
    "\n",
    "        8. realizar_compra(self): Permite a un cliente realizar una compra seleccionando productos del inventario. Debe interactuar con el cliente para seleccionar productos y calcular el costo total de la compra\n",
    "\n",
    "            - Utiliza un bucle while para permitir al cliente realizar múltiples compras.\n",
    "\n",
    "            - Muestra el inventario y solicita al cliente ingresar el nombre del producto que desea comprar.\n",
    "\n",
    "            - Registra los productos seleccionados en un carrito y actualiza el inventario.\n",
    "\n",
    "            - Calcula el costo total de la compra.\n",
    "\n",
    "        9. procesar_pago(self): Procesa el pago de una compra, calcula el cambio y muestra un mensaje de confirmación.\n",
    "\n",
    "            - Utiliza un bloque try...except para manejar excepciones.\n",
    "\n",
    "            - Solicita al cliente ingresar la cantidad total y la cantidad de pago usando un input.\n",
    "\n",
    "            - Calcula el cambio y muestra un mensaje de pago exitoso o un error en caso de monto insuficiente.\n",
    "        \n",
    "        10. agregar_cliente(self, nombre, email): Agrega un nuevo cliente al registro de clientes. Debe recibir el nombre y el correo electrónico del cliente como parámetros.\n",
    "\n",
    "            - Agrega un cliente al diccionario de clientes con su nombre y correo electrónico.\n",
    "\n",
    "        11. ver_clientes(self): Muestra la lista de clientes registrados con sus nombres y correos electrónicos.\n",
    "\n",
    "            - Utiliza un bucle for para recorrer la base de datos de clientes.\n",
    "\n",
    "            - Imprime los detalles de cada cliente (nombre y correo electrónico).\n",
    "        \n",
    "        12. registrar_compra(self, nombre_cliente, carrito): Registra una compra para un cliente, actualiza las ventas totales y agrega la compra al historial del cliente. Debe recibir el nombre del cliente y el carrito de compras como parámetros.\n",
    "\n",
    "            - Busca al cliente en el diccionario de clientes.\n",
    "\n",
    "            - Si el cliente no esta en el diccionario de clientes, muestra que no se puede realizar la acción por que el cliente no está en el diccionario.\n",
    "\n",
    "            - Calcula el total de la compra y registra la compra, incluyendo los productos y el total.\n",
    "\n",
    "            - Ejemplo:\n",
    "                carrito_cliente1 = {\"Camisa\": {\"precio\": 20, \"cantidad\": 3}} \n",
    "                tienda.registrar_compra(\"Cliente1\", carrito_cliente1)\n",
    "        \n",
    "        13. ver_compras_cliente(self, nombre_cliente): Muestra el historial de compras de un cliente. Debe recibir el nombre del cliente como parámetro.\n",
    "\n",
    "            - Busca al cliente en el diccionario de clientes.\n",
    "\n",
    "            - Muestra las compras realizadas por el cliente, incluyendo detalles de productos y totales.\n",
    "\n",
    "        14. calcular_ventas_totales(self): Muestra las ventas totales de la tienda.\n",
    "\n",
    "            - Suma los totales de todas las compras realizadas y muestra el total de ventas totales en la tienda.\n",
    "\n",
    "Instrucciones Adicionales:\n",
    "\n",
    "    ·Debes crear instancias de la clase TiendaOnline y probar cada uno de los métodos para demostrar que funcionan correctamente.\n"
   ]
  },
  {
   "cell_type": "code",
   "execution_count": 497,
   "metadata": {},
   "outputs": [],
   "source": [
    "#Primero importo la librería re para poder usar los regex\n",
    "import re \n",
    "#Ahora creo la clase TiendaOnline\n",
    "class TiendaOnline:\n",
    "    \n",
    "    #ahora hago el constructor con cada uno de sus atributos\n",
    "    def __init__(self, inventario=[], clientes={}, ventas_totales=float(0)):\n",
    "\n",
    "        self.inventario=inventario #Un inventario para almacenar los productos: [{'nombre': 'producto', 'precio': su precio, 'cantidad': existencias}\n",
    "        self.clientes=clientes #Un diccionario para llevar un registro de los clientes y sus compras: {'Cliente1': {'email': 'cliente1@email.com', 'compras': []}\n",
    "        self.ventas_totales=ventas_totales #atributo para llevar un registro de las ventas totales de la tienda\n",
    "\n",
    "    #Ahora voy a crear el método de agregar un producto a la tienda\n",
    "    def agregar_producto(self,nombre,precio,cantidad):\n",
    "        #Primero voy a crear un bucle for para ir iterando en la lista y así buscar en cada uno de los diccionarios\n",
    "        for producto in self.inventario:\n",
    "            #Compruebo si el nombre del producto aparece en alguno de los valores del diccionario\n",
    "            if nombre in producto.values():\n",
    "                #Si es así, actualizo la cantidad sumándole la nueva cantidad\n",
    "                producto['cantidad']+=cantidad\n",
    "                return f\"El inventario ha sido actualizado {self.inventario}\"\n",
    "            #Si el combre no coincide con ningún valor, continúo la iteración hasta acabar de mirar todos los diccionarios\n",
    "            else:\n",
    "                continue \n",
    "        #Si no aparece en ningún diccionario actualizo la lista añadiendo un nuevo diccionario\n",
    "        else:\n",
    "            nuevo_elemento={'nombre':nombre,'precio':precio,'cantidad':cantidad}\n",
    "            self.inventario.append(nuevo_elemento)\n",
    "            return f\"Se ha agregado el nuevo elemento {nuevo_elemento} {self.inventario}\"\n",
    "    \n",
    "    #Ahora crearé el método para obtener los datos del inventario\n",
    "    def ver_inventario(self):\n",
    "\n",
    "        #primero creo un bucle for para iterar a lo largo de la lista\n",
    "        for producto in self.inventario:\n",
    "            #A continuación creo una variable con el print de la frase que quiero obtener\n",
    "            visualización=print(f'Nombre: {producto[\"nombre\"]}, Precio: ${producto[\"precio\"]}, Cantidad: {producto[\"cantidad\"]}')\n",
    "        #coloco el return fuera del bucle for para que me muestre todos los prints y no se pare en el primer producto\n",
    "        return visualización\n",
    "    \n",
    "    #Voy a crear el método para buscar un producto concreto en el inventario\n",
    "    def buscar_producto(self,nombre):\n",
    "\n",
    "        #Primero voy a crear un bucle for para ir iterando en la lista y así buscar en cada uno de los diccionarios\n",
    "        for producto in self.inventario:\n",
    "            #Compruebo si el nombre del producto aparece en alguno de los valores del diccionario y devuelve una frase si aparece\n",
    "            if nombre in producto.values():\n",
    "                return f'Nombre: {producto[\"nombre\"]}, Precio: ${producto[\"precio\"]}, Cantidad: {producto[\"cantidad\"]}'\n",
    "\n",
    "    #Ahora voy a crear un método para actualizar el stock de mi inventario        \n",
    "    def actualizar_stock(self, nombre, cantidad):\n",
    "\n",
    "        for producto in self.inventario:\n",
    "            #Compruebo si el nombre del producto aparece en alguno de los valores del diccionario\n",
    "            if nombre in producto.values():\n",
    "                #Si es así, actualizo la cantidad sumándole la nueva cantidad\n",
    "                producto['cantidad']+=cantidad\n",
    "                #compruebo que se haya incluido una cantidad válida\n",
    "                if producto['cantidad']<0:\n",
    "                    return f\"No se puede actualizar el inventario pues la cantidad quitada es mayor que el stock\"\n",
    "                else:\n",
    "                    return f\"El inventario ha sido actualizado {self.inventario}\"\n",
    "            #Si el nombre no coincide con ningún valor, continúo la iteración hasta acabar de mirar todos los diccionarios\n",
    "            else:\n",
    "                continue \n",
    "        #Si no aparece en ningún diccionario muestro un mensaje indicándolo\n",
    "        else:\n",
    "            return f\"El producto {nombre} no se encuentra en el inventario {self.inventario}\"\n",
    "        \n",
    "    #Voy a crear un método para eliminar un producto de mi inventario    \n",
    "    def eliminar_producto(self,nombre):\n",
    "\n",
    "        for producto in self.inventario:\n",
    "            #Compruebo si el nombre del producto aparece en alguno de los valores del diccionario\n",
    "            if nombre in producto.values():\n",
    "                #Si es así, elimino el diccionario de ese producto\n",
    "                self.inventario.remove(producto)\n",
    "                return f\"El producto {producto} ha sido eliminado con éxito. {self.inventario}\"\n",
    "            #Si el nombre no coincide con ningún valor, continúo la iteración hasta acabar de mirar todos los diccionarios\n",
    "            else:\n",
    "                continue \n",
    "        #Si no aparece en ningún diccionario muestro un mensaje indicándolo\n",
    "        else:\n",
    "            return f\"El producto {nombre} no se encuentra en el inventario {self.inventario}\"\n",
    "        \n",
    "    #Ahora voy a crear un método para calcular el valor total de mi inventario    \n",
    "    def calcular_valor_inventario(self):\n",
    "        #primero creo una variable con valor 0 que será donde vaya calculando el valor total\n",
    "        valor_total=0\n",
    "        #Con un bucle for iré iterando a lo largo de la lista para obtener los valores de cada diccionario\n",
    "        for producto in self.inventario:\n",
    "            #En la variable creada anteriormente voy sumando el producto entre el valor del precio y el valor de cantidad de cada diccionario\n",
    "            valor_total+=producto.get('precio')*producto.get('cantidad')\n",
    "        #Devuelvo el valor total del inventario. El return está fuera del bucle for para que no se pare la función\n",
    "        return f'El valor total del inventario es de ${round(valor_total,2)}'\n",
    "\n",
    "    #Voy a crear un método de búsqueda de nombres\n",
    "    def buscar_producto_regex(self,patron):\n",
    "\n",
    "        #Lo priemero va a ser crear una lista de patrones encontrados y una cadena de texto vacía\n",
    "        lista_encontrados=[]\n",
    "        texto=''\n",
    "        #Creo un bucle for para buscar en cada diccionario de la lista de inventario\n",
    "        for producto in self.inventario:\n",
    "            #Uso findall ya que me da el resultado en una lista\n",
    "            regex=re.findall(patron,producto.get('nombre'))\n",
    "            #si el patron está en el diccionario se crearía una lista con un valor, por lo tanto, el len será >0\n",
    "            if len(regex)>0:\n",
    "                #Añado a la lista_encontrados el valor de la clave nombre\n",
    "                lista_encontrados.append(producto.get('nombre'))\n",
    "                #Añado el output que quiero que aparezca a la cadena de texto\n",
    "                texto+=(f'Nombre: {producto[\"nombre\"]}, Precio: ${producto[\"precio\"]}, Cantidad: {producto[\"cantidad\"]}\\n')\n",
    "            #Si el patron no aparece en un diccionario el bucle continua\n",
    "            else:\n",
    "                continue\n",
    "        #Si la longitud de  lista_encontrados es mayor que 0 quiere decir que sí que ha encontrado coincidencias\n",
    "        if len(lista_encontrados)>0:\n",
    "            #muestra las coincidencias\n",
    "            return print(texto)\n",
    "        #Si la longitud de la lista_encontrados es igual a 0 es porque no se ha añadido nada, por lo tanto no habría coincidencias\n",
    "        else:\n",
    "            return 'No se ha encontrado ninguna coincidencia'\n",
    "\n",
    "    #Voy a realizar un método para realizar compras    \n",
    "    def realizar_compra(self):\n",
    "        #Primero añado 3 variables \n",
    "        pregunta=\"s\"\n",
    "        carrito={} \n",
    "        costo=0\n",
    "        #Ahora creo un bucle while que va a pregunar si se quiere volver a comprar \n",
    "        while pregunta!=\"n\":\n",
    "            #Creo un bucle for para iterar en la lista inventario\n",
    "            for producto in self.inventario:\n",
    "                #muestro cada uno de los productos del inventario\n",
    "                print (f'Nombre: {producto[\"nombre\"]}, Precio: ${producto[\"precio\"]}, Cantidad: {producto[\"cantidad\"]}')\n",
    "            #Hago las preguntas de producto a comprar y cantidad\n",
    "            producto_comprar=input(\"Introduzca el producto que desea comprar\").title()\n",
    "            cantidad_comprar=int(input(\"Introduzca la cantidad que desea comprar\"))\n",
    "            #Creo un bucle for para iterar en la lista inventario\n",
    "            for producto in self.inventario:\n",
    "                #Añado un condicional. Si el producto a comprar está en la lista Y ADEMÁS la cantidad introducida es correcta se procede con la compra\n",
    "                if producto_comprar in producto.values() and cantidad_comprar<=producto[\"cantidad\"]:\n",
    "                    print(\"Todos los datos correctos. Ahora procederemos con la compra\")\n",
    "                    #Creo un diccionario cuya clave sea el producto a comprar y el valor la cantidad a comprar\n",
    "                    compra={producto_comprar:cantidad_comprar}\n",
    "                    #actualizo el carrito con la info de la compra\n",
    "                    carrito.update(compra)\n",
    "                    #Actualizo el costo añadiendo el total del dinero a pagar\n",
    "                    costo+=cantidad_comprar*producto.get(\"precio\")\n",
    "                    #Actualizo la cantidad de productos en el inventario\n",
    "                    producto[\"cantidad\"]-=cantidad_comprar\n",
    "                    print(f'Ha seleccionado los siguientes productos {carrito}, la compra asciende a ${costo}')\n",
    "                #Si no se cumplen las condiciones se sigue el bucle\n",
    "                else:\n",
    "                    continue\n",
    "            #Creo un bucle for para iterar en la lista inventario y mostrar en pantalla el inventarioactual\n",
    "            for producto in self.inventario:\n",
    "                print (f'Nombre: {producto[\"nombre\"]}, Precio: ${producto[\"precio\"]}, Cantidad: {producto[\"cantidad\"]}')\n",
    "            #Realizo la pregunta de seguir con la compra\n",
    "            pregunta=input(\"¿Quiere seguir comprando?(s/n)\").lower()\n",
    "            #Si no introducen un caracter correcto el programa deja de funcionar        \n",
    "            if pregunta !=\"s\" and pregunta !=\"n\":\n",
    "                print(\"Por favor introducza s para sí o n para no\")\n",
    "        #cuando seleccione que no quiere comprar más muestra los productos del carrito y el dinero a pagar     \n",
    "        return f'Ha seleccionado los siguientes productos {carrito}, la compra asciende a ${costo}'\n",
    "    \n",
    "    #Voy a definir un argumento para procesar el pago\n",
    "    def procesar_pago(self):\n",
    "        #Añado un try...except \n",
    "        try:\n",
    "            #cantidad=float(input(\"Introduzca la cantidad a pagar\"))\n",
    "            pagar=float(input(\"Introduzca el dinero para pagar\"))\n",
    "        #Añado un except valueError si introduce un valor que no sea un dígito \n",
    "        except ValueError:\n",
    "            print(\"Por favor, introduzca un valor nuérico\")\n",
    "        #Si no ocurre el error se sigue ejecutando\n",
    "        else:\n",
    "            #calculo el cambio\n",
    "            cambio=pagar-self.costo\n",
    "            #Si el cambio es negativo, es decir paga menos de lo que debe salta el mensaje\n",
    "            if cambio<0:\n",
    "                return f'Recuerde que debe ingresar una cantidad igual o mayor que el coste total'\n",
    "            #En el resto de los casos se procede con el pago\n",
    "            else:\n",
    "                return f'Ha realizado el pago correctamente. Su cambio es de ${cambio}'\n",
    "\n",
    "    #Creo un argumento para añadir clientes en la base de datos       \n",
    "    def agregar_cliente(self,nombre,email):\n",
    "        #Creo un condicional para ver si el cliente ya está en la base de datos\n",
    "        if nombre in self.clientes:\n",
    "            return 'Ya existe ese cliente en nuestra base de datos'\n",
    "        #Si el cliente no está procederé a actualizar la base de datos\n",
    "        else:\n",
    "            #Creo un nuevo diccionario con clave nombre y valor email\n",
    "            nuevo_cliente={nombre:{'email':email,'compras':[]}}\n",
    "            #actualizo el diccionario self.clientes\n",
    "            self.clientes.update(nuevo_cliente)\n",
    "            return f'El cliente {nombre} se ha añadido correctamente a la base de datos {self.clientes}'\n",
    "    \n",
    "    #Creo un argumento que muestre todos los clientes del diccionario\n",
    "    def ver_clientes(self):\n",
    "        #Hago un bucle for que vaya recorriendo el diccionario\n",
    "        for cliente in self.clientes:\n",
    "            #creo un diccionario de los values del cliente y muestro el mail\n",
    "            datos=self.clientes.get(cliente)\n",
    "            print(f'Nombre: {cliente}. Email: {datos[\"email\"]}')\n",
    "    \n",
    "    def registrar_compras(self,nombre_cliente,carrito):\n",
    "        if nombre_cliente not in self.clientes:\n",
    "            return f'No se puede realizar la compra porque {nombre_cliente} no se encuentra en la base de datos'\n",
    "        else:\n",
    "            for cliente in self.clientes:\n",
    "                if nombre_cliente==cliente:\n",
    "                    datos=self.clientes.get(cliente)\n",
    "                    lista_compra=datos.get(\"compras\")\n",
    "                    lista_compra.append(carrito)\n",
    "                    return self.clientes\n",
    "                \n",
    "    def ver_compras_cliente(self,nombre_cliente):\n",
    "        if nombre_cliente not in self.clientes:\n",
    "            return f'No se puede realizar la compra porque {nombre_cliente} no se encuentra en la base de datos'\n",
    "        else:\n",
    "             for cliente in self.clientes:\n",
    "                if nombre_cliente==cliente:\n",
    "                    datos=self.clientes.get(cliente)\n",
    "                    lista_compra=datos.get(\"compras\")\n",
    "                    return lista_compra\n",
    "    \n",
    "    #def calcular_ventas_totales (self):\n",
    "        \n",
    "    \n"
   ]
  },
  {
   "cell_type": "markdown",
   "metadata": {},
   "source": [
    "12. registrar_compra(self, nombre_cliente, carrito): Registra una compra para un cliente, actualiza las ventas totales y agrega la compra al historial del cliente. Debe recibir el nombre del cliente y el carrito de compras como parámetros.\n",
    "\n",
    "            - Busca al cliente en el diccionario de clientes.\n",
    "\n",
    "            - Si el cliente no esta en el diccionario de clientes, muestra que no se puede realizar la acción por que el cliente no está en el diccionario.\n",
    "\n",
    "            - Calcula el total de la compra y registra la compra, incluyendo los productos y el total.\n",
    "\n",
    "            - Ejemplo:\n",
    "                carrito_cliente1 = {\"Camisa\": {\"precio\": 20, \"cantidad\": 3}} \n",
    "                tienda.registrar_compra(\"Cliente1\", carrito_cliente1)\n",
    "\n",
    "13. ver_compras_cliente(self, nombre_cliente): Muestra el historial de compras de un cliente. Debe recibir el nombre del cliente como parámetro.\n",
    "\n",
    "            - Busca al cliente en el diccionario de clientes.\n",
    "\n",
    "            - Muestra las compras realizadas por el cliente, incluyendo detalles de productos y totales.\n",
    "\n",
    "14. calcular_ventas_totales(self): Muestra las ventas totales de la tienda.\n",
    "\n",
    "            - Suma los totales de todas las compras realizadas y muestra el total de ventas totales en la tienda.\n"
   ]
  },
  {
   "cell_type": "code",
   "execution_count": 498,
   "metadata": {},
   "outputs": [
    {
     "data": {
      "text/plain": [
       "\"Se ha agregado el nuevo elemento {'nombre': 'Trenza del Mar Esmeralda', 'precio': 23.99, 'cantidad': 8} [{'nombre': 'El Imperio Final', 'precio': 15.95, 'cantidad': 1}, {'nombre': 'El Pozo de la Ascensión', 'precio': 13.99, 'cantidad': 2}, {'nombre': 'El Héroe de las Eras', 'precio': 11.99, 'cantidad': 3}, {'nombre': 'Aleación de Ley', 'precio': 22.29, 'cantidad': 4}, {'nombre': 'Sombras de Identidad', 'precio': 14.35, 'cantidad': 5}, {'nombre': 'Brazales de Duelo', 'precio': 14.35, 'cantidad': 6}, {'nombre': 'El Metal Perdido', 'precio': 21.49, 'cantidad': 7}, {'nombre': 'Trenza del Mar Esmeralda', 'precio': 23.99, 'cantidad': 8}]\""
      ]
     },
     "execution_count": 498,
     "metadata": {},
     "output_type": "execute_result"
    }
   ],
   "source": [
    "librería=TiendaOnline()\n",
    "librería.agregar_producto('El Imperio Final',15.95,1)\n",
    "librería.agregar_producto('El Pozo de la Ascensión',13.99,2)\n",
    "librería.agregar_producto('El Héroe de las Eras',11.99,3)\n",
    "librería.agregar_producto('Aleación de Ley',22.29,4)\n",
    "librería.agregar_producto('Sombras de Identidad',14.35,5)\n",
    "librería.agregar_producto('Brazales de Duelo',14.35,6)\n",
    "librería.agregar_producto('El Metal Perdido',21.49,7)\n",
    "librería.agregar_producto('Trenza del Mar Esmeralda',23.99,8)\n"
   ]
  },
  {
   "cell_type": "code",
   "execution_count": 499,
   "metadata": {},
   "outputs": [
    {
     "name": "stdout",
     "output_type": "stream",
     "text": [
      "Nombre: El Imperio Final, Precio: $15.95, Cantidad: 1\n",
      "Nombre: El Pozo de la Ascensión, Precio: $13.99, Cantidad: 2\n",
      "Nombre: El Héroe de las Eras, Precio: $11.99, Cantidad: 3\n",
      "Nombre: Aleación de Ley, Precio: $22.29, Cantidad: 4\n",
      "Nombre: Sombras de Identidad, Precio: $14.35, Cantidad: 5\n",
      "Nombre: Brazales de Duelo, Precio: $14.35, Cantidad: 6\n",
      "Nombre: El Metal Perdido, Precio: $21.49, Cantidad: 7\n",
      "Nombre: Trenza del Mar Esmeralda, Precio: $23.99, Cantidad: 8\n"
     ]
    }
   ],
   "source": [
    "librería.ver_inventario()"
   ]
  },
  {
   "cell_type": "code",
   "execution_count": 500,
   "metadata": {},
   "outputs": [
    {
     "data": {
      "text/plain": [
       "'Nombre: El Imperio Final, Precio: $15.95, Cantidad: 1'"
      ]
     },
     "execution_count": 500,
     "metadata": {},
     "output_type": "execute_result"
    }
   ],
   "source": [
    "librería.buscar_producto(\"El Imperio Final\")"
   ]
  },
  {
   "cell_type": "code",
   "execution_count": 501,
   "metadata": {},
   "outputs": [
    {
     "data": {
      "text/plain": [
       "\"El inventario ha sido actualizado [{'nombre': 'El Imperio Final', 'precio': 15.95, 'cantidad': 1}, {'nombre': 'El Pozo de la Ascensión', 'precio': 13.99, 'cantidad': 2}, {'nombre': 'El Héroe de las Eras', 'precio': 11.99, 'cantidad': 3}, {'nombre': 'Aleación de Ley', 'precio': 22.29, 'cantidad': 4}, {'nombre': 'Sombras de Identidad', 'precio': 14.35, 'cantidad': 5}, {'nombre': 'Brazales de Duelo', 'precio': 14.35, 'cantidad': 6}, {'nombre': 'El Metal Perdido', 'precio': 21.49, 'cantidad': 7}, {'nombre': 'Trenza del Mar Esmeralda', 'precio': 23.99, 'cantidad': 7}]\""
      ]
     },
     "execution_count": 501,
     "metadata": {},
     "output_type": "execute_result"
    }
   ],
   "source": [
    "librería.actualizar_stock(\"Trenza del Mar Esmeralda\",-1)"
   ]
  },
  {
   "cell_type": "code",
   "execution_count": 502,
   "metadata": {},
   "outputs": [
    {
     "name": "stdout",
     "output_type": "stream",
     "text": [
      "Nombre: El Imperio Final, Precio: $15.95, Cantidad: 1\n",
      "Nombre: El Pozo de la Ascensión, Precio: $13.99, Cantidad: 2\n",
      "Nombre: El Héroe de las Eras, Precio: $11.99, Cantidad: 3\n",
      "Nombre: Aleación de Ley, Precio: $22.29, Cantidad: 4\n",
      "Nombre: Sombras de Identidad, Precio: $14.35, Cantidad: 5\n",
      "Nombre: Brazales de Duelo, Precio: $14.35, Cantidad: 6\n",
      "Nombre: El Metal Perdido, Precio: $21.49, Cantidad: 7\n",
      "Nombre: Trenza del Mar Esmeralda, Precio: $23.99, Cantidad: 7\n"
     ]
    }
   ],
   "source": [
    "librería.ver_inventario()"
   ]
  },
  {
   "cell_type": "code",
   "execution_count": 503,
   "metadata": {},
   "outputs": [
    {
     "data": {
      "text/plain": [
       "\"El producto {'nombre': 'Trenza del Mar Esmeralda', 'precio': 23.99, 'cantidad': 7} ha sido eliminado con éxito. [{'nombre': 'El Imperio Final', 'precio': 15.95, 'cantidad': 1}, {'nombre': 'El Pozo de la Ascensión', 'precio': 13.99, 'cantidad': 2}, {'nombre': 'El Héroe de las Eras', 'precio': 11.99, 'cantidad': 3}, {'nombre': 'Aleación de Ley', 'precio': 22.29, 'cantidad': 4}, {'nombre': 'Sombras de Identidad', 'precio': 14.35, 'cantidad': 5}, {'nombre': 'Brazales de Duelo', 'precio': 14.35, 'cantidad': 6}, {'nombre': 'El Metal Perdido', 'precio': 21.49, 'cantidad': 7}]\""
      ]
     },
     "execution_count": 503,
     "metadata": {},
     "output_type": "execute_result"
    }
   ],
   "source": [
    "librería.eliminar_producto(\"Trenza del Mar Esmeralda\")"
   ]
  },
  {
   "cell_type": "code",
   "execution_count": 504,
   "metadata": {},
   "outputs": [
    {
     "name": "stdout",
     "output_type": "stream",
     "text": [
      "Nombre: El Imperio Final, Precio: $15.95, Cantidad: 1\n",
      "Nombre: El Pozo de la Ascensión, Precio: $13.99, Cantidad: 2\n",
      "Nombre: El Héroe de las Eras, Precio: $11.99, Cantidad: 3\n",
      "Nombre: Aleación de Ley, Precio: $22.29, Cantidad: 4\n",
      "Nombre: Sombras de Identidad, Precio: $14.35, Cantidad: 5\n",
      "Nombre: Brazales de Duelo, Precio: $14.35, Cantidad: 6\n",
      "Nombre: El Metal Perdido, Precio: $21.49, Cantidad: 7\n"
     ]
    }
   ],
   "source": [
    "librería.ver_inventario()"
   ]
  },
  {
   "cell_type": "code",
   "execution_count": 505,
   "metadata": {},
   "outputs": [
    {
     "data": {
      "text/plain": [
       "'El valor total del inventario es de $477.34'"
      ]
     },
     "execution_count": 505,
     "metadata": {},
     "output_type": "execute_result"
    }
   ],
   "source": [
    "librería.calcular_valor_inventario()"
   ]
  },
  {
   "cell_type": "code",
   "execution_count": 506,
   "metadata": {},
   "outputs": [
    {
     "name": "stdout",
     "output_type": "stream",
     "text": [
      "Nombre: El Pozo de la Ascensión, Precio: $13.99, Cantidad: 2\n",
      "Nombre: El Héroe de las Eras, Precio: $11.99, Cantidad: 3\n",
      "Nombre: Aleación de Ley, Precio: $22.29, Cantidad: 4\n",
      "Nombre: Sombras de Identidad, Precio: $14.35, Cantidad: 5\n",
      "Nombre: Brazales de Duelo, Precio: $14.35, Cantidad: 6\n",
      "\n"
     ]
    }
   ],
   "source": [
    "librería.buscar_producto_regex('de')"
   ]
  },
  {
   "cell_type": "code",
   "execution_count": 507,
   "metadata": {},
   "outputs": [
    {
     "name": "stdout",
     "output_type": "stream",
     "text": [
      "Nombre: El Imperio Final, Precio: $15.95, Cantidad: 1\n",
      "Nombre: El Pozo de la Ascensión, Precio: $13.99, Cantidad: 2\n",
      "Nombre: El Héroe de las Eras, Precio: $11.99, Cantidad: 3\n",
      "Nombre: Aleación de Ley, Precio: $22.29, Cantidad: 4\n",
      "Nombre: Sombras de Identidad, Precio: $14.35, Cantidad: 5\n",
      "Nombre: Brazales de Duelo, Precio: $14.35, Cantidad: 6\n",
      "Nombre: El Metal Perdido, Precio: $21.49, Cantidad: 7\n",
      "Nombre: El Imperio Final, Precio: $15.95, Cantidad: 1\n",
      "Nombre: El Pozo de la Ascensión, Precio: $13.99, Cantidad: 2\n",
      "Nombre: El Héroe de las Eras, Precio: $11.99, Cantidad: 3\n",
      "Nombre: Aleación de Ley, Precio: $22.29, Cantidad: 4\n",
      "Nombre: Sombras de Identidad, Precio: $14.35, Cantidad: 5\n",
      "Nombre: Brazales de Duelo, Precio: $14.35, Cantidad: 6\n",
      "Nombre: El Metal Perdido, Precio: $21.49, Cantidad: 7\n"
     ]
    },
    {
     "data": {
      "text/plain": [
       "'Ha seleccionado los siguientes productos {}, la compra asciende a $0'"
      ]
     },
     "execution_count": 507,
     "metadata": {},
     "output_type": "execute_result"
    }
   ],
   "source": [
    "librería.realizar_compra()"
   ]
  },
  {
   "cell_type": "code",
   "execution_count": 508,
   "metadata": {},
   "outputs": [
    {
     "ename": "AttributeError",
     "evalue": "'TiendaOnline' object has no attribute 'costo'",
     "output_type": "error",
     "traceback": [
      "\u001b[0;31m---------------------------------------------------------------------------\u001b[0m",
      "\u001b[0;31mAttributeError\u001b[0m                            Traceback (most recent call last)",
      "\u001b[1;32m/mnt/c/Users/salsi/OneDrive/Escritorio/adalab/Módulo 1/Evaluaciones/promo-F-DA-modulo1-evaluacion-final-SilviaAlsina/promo-F-DA-modulo1-evaluacion-final-SilviaAlsina.ipynb Cell 14\u001b[0m line \u001b[0;36m1\n\u001b[0;32m----> <a href='vscode-notebook-cell://wsl%2Bubuntu-18.04/mnt/c/Users/salsi/OneDrive/Escritorio/adalab/M%C3%B3dulo%201/Evaluaciones/promo-F-DA-modulo1-evaluacion-final-SilviaAlsina/promo-F-DA-modulo1-evaluacion-final-SilviaAlsina.ipynb#X16sdnNjb2RlLXJlbW90ZQ%3D%3D?line=0'>1</a>\u001b[0m librería\u001b[39m.\u001b[39;49mprocesar_pago()\n",
      "\u001b[1;32m/mnt/c/Users/salsi/OneDrive/Escritorio/adalab/Módulo 1/Evaluaciones/promo-F-DA-modulo1-evaluacion-final-SilviaAlsina/promo-F-DA-modulo1-evaluacion-final-SilviaAlsina.ipynb Cell 14\u001b[0m line \u001b[0;36m1\n\u001b[1;32m    <a href='vscode-notebook-cell://wsl%2Bubuntu-18.04/mnt/c/Users/salsi/OneDrive/Escritorio/adalab/M%C3%B3dulo%201/Evaluaciones/promo-F-DA-modulo1-evaluacion-final-SilviaAlsina/promo-F-DA-modulo1-evaluacion-final-SilviaAlsina.ipynb#X16sdnNjb2RlLXJlbW90ZQ%3D%3D?line=174'>175</a>\u001b[0m     \u001b[39mprint\u001b[39m(\u001b[39m\"\u001b[39m\u001b[39mPor favor, introduzca un valor nuérico\u001b[39m\u001b[39m\"\u001b[39m)\n\u001b[1;32m    <a href='vscode-notebook-cell://wsl%2Bubuntu-18.04/mnt/c/Users/salsi/OneDrive/Escritorio/adalab/M%C3%B3dulo%201/Evaluaciones/promo-F-DA-modulo1-evaluacion-final-SilviaAlsina/promo-F-DA-modulo1-evaluacion-final-SilviaAlsina.ipynb#X16sdnNjb2RlLXJlbW90ZQ%3D%3D?line=175'>176</a>\u001b[0m \u001b[39m#Si no ocurre el error se sigue ejecutando\u001b[39;00m\n\u001b[1;32m    <a href='vscode-notebook-cell://wsl%2Bubuntu-18.04/mnt/c/Users/salsi/OneDrive/Escritorio/adalab/M%C3%B3dulo%201/Evaluaciones/promo-F-DA-modulo1-evaluacion-final-SilviaAlsina/promo-F-DA-modulo1-evaluacion-final-SilviaAlsina.ipynb#X16sdnNjb2RlLXJlbW90ZQ%3D%3D?line=176'>177</a>\u001b[0m \u001b[39melse\u001b[39;00m:\n\u001b[1;32m    <a href='vscode-notebook-cell://wsl%2Bubuntu-18.04/mnt/c/Users/salsi/OneDrive/Escritorio/adalab/M%C3%B3dulo%201/Evaluaciones/promo-F-DA-modulo1-evaluacion-final-SilviaAlsina/promo-F-DA-modulo1-evaluacion-final-SilviaAlsina.ipynb#X16sdnNjb2RlLXJlbW90ZQ%3D%3D?line=177'>178</a>\u001b[0m     \u001b[39m#calculo el cambio\u001b[39;00m\n\u001b[0;32m--> <a href='vscode-notebook-cell://wsl%2Bubuntu-18.04/mnt/c/Users/salsi/OneDrive/Escritorio/adalab/M%C3%B3dulo%201/Evaluaciones/promo-F-DA-modulo1-evaluacion-final-SilviaAlsina/promo-F-DA-modulo1-evaluacion-final-SilviaAlsina.ipynb#X16sdnNjb2RlLXJlbW90ZQ%3D%3D?line=178'>179</a>\u001b[0m     cambio\u001b[39m=\u001b[39mpagar\u001b[39m-\u001b[39m\u001b[39mself\u001b[39;49m\u001b[39m.\u001b[39;49mcosto\n\u001b[1;32m    <a href='vscode-notebook-cell://wsl%2Bubuntu-18.04/mnt/c/Users/salsi/OneDrive/Escritorio/adalab/M%C3%B3dulo%201/Evaluaciones/promo-F-DA-modulo1-evaluacion-final-SilviaAlsina/promo-F-DA-modulo1-evaluacion-final-SilviaAlsina.ipynb#X16sdnNjb2RlLXJlbW90ZQ%3D%3D?line=179'>180</a>\u001b[0m     \u001b[39m#Si el cambio es negativo, es decir paga menos de lo que debe salta el mensaje\u001b[39;00m\n\u001b[1;32m    <a href='vscode-notebook-cell://wsl%2Bubuntu-18.04/mnt/c/Users/salsi/OneDrive/Escritorio/adalab/M%C3%B3dulo%201/Evaluaciones/promo-F-DA-modulo1-evaluacion-final-SilviaAlsina/promo-F-DA-modulo1-evaluacion-final-SilviaAlsina.ipynb#X16sdnNjb2RlLXJlbW90ZQ%3D%3D?line=180'>181</a>\u001b[0m     \u001b[39mif\u001b[39;00m cambio\u001b[39m<\u001b[39m\u001b[39m0\u001b[39m:\n",
      "\u001b[0;31mAttributeError\u001b[0m: 'TiendaOnline' object has no attribute 'costo'"
     ]
    }
   ],
   "source": [
    "librería.procesar_pago()"
   ]
  },
  {
   "cell_type": "code",
   "execution_count": null,
   "metadata": {},
   "outputs": [
    {
     "data": {
      "text/plain": [
       "'Ya existe ese cliente en nuestra base de datos'"
      ]
     },
     "execution_count": 483,
     "metadata": {},
     "output_type": "execute_result"
    }
   ],
   "source": [
    "mi_tienda.agregar_cliente(\"pepe\",\"pepe@gmail.com\")\n",
    "mi_tienda.agregar_cliente(\"ana\",\"ana@gmail.com\")"
   ]
  },
  {
   "cell_type": "code",
   "execution_count": null,
   "metadata": {},
   "outputs": [
    {
     "name": "stdout",
     "output_type": "stream",
     "text": [
      "Nombre: pepe. Email: pepe@gmail.com\n",
      "Nombre: ana. Email: ana@gmail.com\n"
     ]
    }
   ],
   "source": [
    "mi_tienda.ver_clientes()"
   ]
  },
  {
   "cell_type": "code",
   "execution_count": null,
   "metadata": {},
   "outputs": [
    {
     "data": {
      "text/plain": [
       "{'pepe': {'email': 'pepe@gmail.com',\n",
       "  'compras': [{'Gato': {'precio': 100, 'cantidad': 1}},\n",
       "   {'Perro': {'precio': 200, 'cantidad': 2}},\n",
       "   {'Gato': {'precio': 100, 'cantidad': 1}},\n",
       "   {'Perro': {'precio': 200, 'cantidad': 2}},\n",
       "   {'Gato': {'precio': 100, 'cantidad': 1}},\n",
       "   {'Perro': {'precio': 200, 'cantidad': 2}},\n",
       "   {'Gato': {'precio': 100, 'cantidad': 1}},\n",
       "   {'Perro': {'precio': 200, 'cantidad': 2}}]},\n",
       " 'ana': {'email': 'ana@gmail.com', 'compras': []}}"
      ]
     },
     "execution_count": 485,
     "metadata": {},
     "output_type": "execute_result"
    }
   ],
   "source": [
    "carrito1={'Gato': {\"precio\": 100, \"cantidad\": 1}} \n",
    "mi_tienda.registrar_compras(\"pepe\",carrito1)\n",
    "carrito2={'Perro': {\"precio\": 200, \"cantidad\": 2}} \n",
    "mi_tienda.registrar_compras(\"pepe\",carrito2)"
   ]
  }
 ],
 "metadata": {
  "kernelspec": {
   "display_name": "base",
   "language": "python",
   "name": "python3"
  },
  "language_info": {
   "codemirror_mode": {
    "name": "ipython",
    "version": 3
   },
   "file_extension": ".py",
   "mimetype": "text/x-python",
   "name": "python",
   "nbconvert_exporter": "python",
   "pygments_lexer": "ipython3",
   "version": "3.10.9"
  }
 },
 "nbformat": 4,
 "nbformat_minor": 2
}
